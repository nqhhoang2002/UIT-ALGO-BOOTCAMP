{
  "nbformat": 4,
  "nbformat_minor": 0,
  "metadata": {
    "colab": {
      "name": "Untitled1.ipynb",
      "provenance": [],
      "collapsed_sections": [],
      "toc_visible": true,
      "authorship_tag": "ABX9TyPHuQXVzqI4CM6ATH1h3IQm",
      "include_colab_link": true
    },
    "kernelspec": {
      "name": "python3",
      "display_name": "Python 3"
    },
    "language_info": {
      "name": "python"
    }
  },
  "cells": [
    {
      "cell_type": "markdown",
      "metadata": {
        "id": "view-in-github",
        "colab_type": "text"
      },
      "source": [
        "<a href=\"https://colab.research.google.com/github/nqhhoang2002/UIT-ALGO-BOOTCAMP/blob/main/AlgoBootcamp_Contest/2021-2022/AlgoBootcamp%20-%20Round%20001%20-%20May21/Tutorial.ipynb\" target=\"_parent\"><img src=\"https://colab.research.google.com/assets/colab-badge.svg\" alt=\"Open In Colab\"/></a>"
      ]
    },
    {
      "cell_type": "markdown",
      "metadata": {
        "id": "SDMAl5IVNGPU"
      },
      "source": [
        "#Đề và lời giải\n"
      ]
    },
    {
      "cell_type": "markdown",
      "metadata": {
        "id": "ehxZ6vpST22l"
      },
      "source": [
        "Đề bài, các hướng giải pháp và code (C++) đã được công bố ở đây: \n",
        "https://colab.research.google.com/drive/19xlNIvlRW4KD6r0GmYVFz1Okoml4nI8O#scrollTo=3lReurum8c4i"
      ]
    },
    {
      "cell_type": "markdown",
      "metadata": {
        "id": "SdLizB5VNQZV"
      },
      "source": [
        "#Code Python\n",
        "Do thời gian chạy của Python lớn hơn rất nhiều so với C++ nên các code dưới đây dù code thuật toán có thể AC bằng C++ nhưng không chắc AC được bằng Python, nhưng mọi người có thể tham khảo hướng làm và code bằng Python."
      ]
    },
    {
      "cell_type": "markdown",
      "metadata": {
        "id": "uB_sIVjBRjZo"
      },
      "source": [
        "##HIDDEN WORD"
      ]
    },
    {
      "cell_type": "markdown",
      "metadata": {
        "id": "TNm9ErkGbwP0"
      },
      "source": [
        "- Hướng làm:\n",
        "\n",
        "  Dùng thuật toán hash để đưa một xâu thành một số nhằm giảm độ phức tạp, sau đó chỉ cần dùng tìm kiếm nhị phân để kiểm tra xem một xâu có tồn tại hay không.\n",
        "\n",
        "- Độ phức tạp:\n",
        "\n",
        "  Do xâu có độ dài tối đa là 10, kích thước mảng là $N \\times M$, và có $Q$ truy vấn nên ĐPT $O(10 \\times Q \\times log(N \\times M)$"
      ]
    },
    {
      "cell_type": "code",
      "metadata": {
        "colab": {
          "base_uri": "https://localhost:8080/"
        },
        "id": "Dzs--t_FRpS-",
        "outputId": "7bf19049-aab6-4ce6-9aec-2d244e920c7c"
      },
      "source": [
        "base = 27\n",
        "n , m, Q = map(int, input().split())\n",
        "\n",
        "a = [input() for i in range(n)]\n",
        "\n",
        "b = []\n",
        "\n",
        "#lay theo chieu ngang\n",
        "for i in range(n):\n",
        "\tfor j in range(m):\n",
        "\t\tH = 0\n",
        "\t\tfor k in range(j, min(m, j+10)):\n",
        "\t\t\tH = H*base + ord(a[i][k]) - ord('a') + 1\n",
        "\t\t\tb.append(H)\n",
        "\n",
        "#lay theo chieu doc\n",
        "for j in range(m):\n",
        "\tfor i in range(n):\n",
        "\t\tH=0\n",
        "\t\tfor k in range(i, min(n, i+10)):\n",
        "\t\t\tH = H*base + ord(a[k][j]) - ord('a') + 1\n",
        "\t\t\tb.append(H)\n",
        "\n",
        "#sort de tim kiem nhi phan\n",
        "b.sort()\n",
        "def binary_search(left, right, x):\n",
        "\twhile left < right:\n",
        "\t\tmid = (left+right) // 2\n",
        "\t\tif b[mid] == x:\n",
        "\t\t\treturn True\n",
        "\t\telif b[mid] < x:\n",
        "\t\t\tleft = mid+1\n",
        "\t\telse:\n",
        "\t\t\tright = mid\n",
        "\treturn False\n",
        "\n",
        "res =[]\n",
        "while Q > 0:\n",
        "\tQ -= 1\n",
        "\tt = input()\n",
        "\tH = 0\n",
        "\tfor x in t:\n",
        "\t\tH = H*base + ord(x) - ord('a') + 1\n",
        "\tif binary_search(0, len(b), H):\n",
        "\t\tres.append(1)\n",
        "\telse:\n",
        "\t\tres.append(0)\n",
        "\n",
        "for i in res:\n",
        "  print(i, end=\"\")\n"
      ],
      "execution_count": null,
      "outputs": [
        {
          "output_type": "stream",
          "text": [
            "2 2 2\n",
            "ab\n",
            "cd\n",
            "ac\n",
            "ad\n",
            "10"
          ],
          "name": "stdout"
        }
      ]
    },
    {
      "cell_type": "markdown",
      "metadata": {
        "id": "BXqRVz-dN5pm"
      },
      "source": [
        "##TRUE EXPRESSION"
      ]
    },
    {
      "cell_type": "markdown",
      "metadata": {
        "id": "BYZCMSgDZOvK"
      },
      "source": [
        "- Hướng làm:\n",
        "\n",
        "  Giả sử tất cả đều mang dấu cộng, thì tổng lớn nhất nhận được là $\\frac{n \\times (n - 1)}{2}$ nếu giá trị lớn hơn tổng thì \"NO_SOLUTION\".\n",
        "\n",
        "  Nhận thấy khi đổi dấu của một số thì giá trị thay đổi sẽ là chẵn. Vậy nên nếu chênh lệch giữa tổng lớn nhất và giá trị là lẻ thì \"NO_SOLUTION\".\n",
        "\n",
        "  Khi đổi dấu '+' của một số thành dấu '-' thì giá trị của tổng sẽ thay đổi bằng 2 lần giá trị số đó. Nên ta lấy chênh lệch chia 2 sau đó dùng thuật toán tham lam để tìm.\n",
        "\n",
        "- Độ phức tạp:\n",
        "\n",
        "  Do dùng thuật toán tham lam chỉ duyệt qua một lần nên ĐPT: $O(n)$"
      ]
    },
    {
      "cell_type": "code",
      "metadata": {
        "colab": {
          "base_uri": "https://localhost:8080/"
        },
        "id": "mwclvVr8OBjb",
        "outputId": "218bb6b9-89a8-4635-8b0c-cdbe5645aed3"
      },
      "source": [
        "n, s = map(int, input().split());\n",
        "d = [int(1) for i in range(105)]\n",
        "\n",
        "sum = (n + 1) * n // 2;\n",
        "if s > sum:\n",
        "  print(\"NO_SOLUTION\")\n",
        "  exit()\n",
        "sum = sum - s;\n",
        "if sum % 2 == 1:\n",
        "  print(\"NO_SOLUTION\")\n",
        "  exit()\n",
        "\n",
        "sum = sum // 2\n",
        "\n",
        "for i in range(n, 0, -1):\n",
        "  if(sum >= i):\n",
        "    sum -= i\n",
        "    d[i] = 0\n",
        "for i in range(1, n + 1):\n",
        "  if d[i]:\n",
        "    print('+', end=\"\")\n",
        "  else:\n",
        "    print('-', end=\"\")\n",
        "\n",
        "\n"
      ],
      "execution_count": null,
      "outputs": [
        {
          "output_type": "stream",
          "text": [
            "5 7\n",
            "+++-+"
          ],
          "name": "stdout"
        }
      ]
    },
    {
      "cell_type": "markdown",
      "metadata": {
        "id": "46HIBD4ZfOyV"
      },
      "source": [
        "##TOP K HITS\n"
      ]
    },
    {
      "cell_type": "markdown",
      "metadata": {
        "id": "c2_ERj9ZfWlW"
      },
      "source": [
        "- Hướng làm:\n",
        "\n",
        "  Đây là sử dụng cấu trúc dữ liệu segment tree điển hình.\n",
        "\n",
        "  Ta xây dựng cây phân đoạn với mỗi node chứa 5 phần tử được sắp xếp theo thứ tự ưu tiên mà đề bài yêu cầu.\n",
        "\n",
        "  Phần update điểm số thì ta sử dụng thêm một cây phân đoạn tương tự nữa, ở mỗi nốt chứa điểm thay đổi của các nốt con phía dưới.\n",
        "\n",
        "  Lấy kểt quả chỉ cần dựa vào nút trên cùng (nút 1)\n",
        "- Độ phức tạp:\n",
        "\n",
        "  Truy vấn update mất $O(logn)$ cho mỗi truy vấn. Vậy nên độ phức tạp sẽ là $O(Q \\times logn)$\n"
      ]
    },
    {
      "cell_type": "code",
      "metadata": {
        "id": "ca8Ndow7i39n",
        "colab": {
          "base_uri": "https://localhost:8080/"
        },
        "outputId": "67780907-fcb4-4059-adbd-b7c7cce1e6ab"
      },
      "source": [
        "N = int(5e4 + 5)\n",
        "\n",
        "n, q = map(int, input().split())\n",
        "\n",
        "it = [{()} for i in range(4 * N)]\n",
        "lazy = [(0) for i in range(4 * N)]\n",
        "\n",
        "def merge(i):\n",
        "    it[i] = it[i << 1] | it[i << 1 | 1]\n",
        "    while len(it[i]) > 5:\n",
        "        (it[i]).remove(min(it[i]))\n",
        "\n",
        "def build(i, l, r):\n",
        "    if l == r:\n",
        "        it[i].clear()\n",
        "        it[i].add((0, l))\n",
        "        return\n",
        "\n",
        "    m = (l + r) >> 1\n",
        "\n",
        "    build(i << 1, l, m)\n",
        "    build(i << 1 | 1, m + 1, r)\n",
        "\n",
        "    merge(i)\n",
        "\n",
        "\n",
        "def change(i, val):\n",
        "    t = {()}\n",
        "    t.clear()\n",
        "    while len(it[i]) > 0:\n",
        "        v = it[i].pop()\n",
        "        t.add((v[0] + val, v[1]))\n",
        "    return t\n",
        "\n",
        "\n",
        "def down(i):\n",
        "    lazy[i << 1] += lazy[i]\n",
        "    lazy[i << 1 | 1] += lazy[i]\n",
        "\n",
        "    it[i << 1] = change(i << 1, lazy[i])\n",
        "    it[i << 1 | 1] = change(i << 1 | 1, lazy[i])\n",
        "\n",
        "    lazy[i] = 0\n",
        "\n",
        "\n",
        "def update(i, l, r, u, v, val):\n",
        "    if l > v or r < u:\n",
        "        return\n",
        "    if u <= l and r <= v:\n",
        "        lazy[i] += val\n",
        "        it[i] = addValue(i, val)\n",
        "        return\n",
        "\n",
        "    m = (l + r) >> 1\n",
        "\n",
        "    down(i)\n",
        "    update(i << 1, l, m, u, v, val)\n",
        "    update(i << 1 | 1, m + 1, r, u, v, val)\n",
        "\n",
        "    merge(i)\n",
        "\n",
        "\n",
        "build(1, 1, n)\n",
        "for i in range(q):\n",
        "    key = input().split()\n",
        "    \n",
        "    if len(key) == 4:\n",
        "        l = int(key[1])\n",
        "        r = int(key[2])\n",
        "        val = int(key[3])\n",
        "        update(1, 1, n, l, r, val)\n",
        "    else:\n",
        "        k = int(key[1])\n",
        "        res = sorted(it[1], reverse=True)\n",
        "        for i in range(min(k, n)):\n",
        "            print(res[i][1], end=' ')\n",
        "        print()"
      ],
      "execution_count": null,
      "outputs": [
        {
          "output_type": "stream",
          "text": [
            "7 4\n",
            "2 3\n",
            "7 6 5 \n",
            "1 1 5 5 \n",
            "1 2 6 -7\n",
            "2 4\n",
            "1 7 5 4 \n"
          ],
          "name": "stdout"
        }
      ]
    },
    {
      "cell_type": "markdown",
      "metadata": {
        "id": "ENiuKBvUjPL8"
      },
      "source": [
        "##SPLITTING CARROTS"
      ]
    },
    {
      "cell_type": "markdown",
      "metadata": {
        "id": "dEQE_xlDjT4h"
      },
      "source": [
        "- Hướng làm:\n",
        "\n",
        "  Nếu tổng trọng lượng cà rốt là lẻ thì in ra 0\n",
        "\n",
        "  Nếu ban đầu không chia được thì in ra 0\n",
        "\n",
        "  Nếu chia được và có 1 củ có khối lượng lẻ thì in ra 1 và số thứ tự của củ đó\n",
        "\n",
        "  Ngược lại ta lần lượt thử lấy củ thứ i và kiểm tra xem có lấy được hay không. Nếu lấy được thì đổi qua củ khác đến khi lấy được thì thôi.\n",
        "\n",
        "- Độ phức tạp:\n",
        "\n",
        "  Để kiểm tra có chia được hay không thì mất $O(n \\times x \\times n)$"
      ]
    },
    {
      "cell_type": "code",
      "metadata": {
        "id": "Pci2nvyesS6f",
        "colab": {
          "base_uri": "https://localhost:8080/"
        },
        "outputId": "5c4d6e03-17cb-4b38-931c-270e99ff7970"
      },
      "source": [
        "n = int(input())\n",
        "a = [int(i) for i in input().split()]\n",
        "\n",
        "#ham qhd de kiem tra\n",
        "def check():\n",
        "    sum = 0\n",
        "    for i in a:\n",
        "        sum += i;\n",
        "    if sum % 2 == 1:\n",
        "        return 0\n",
        "    sum //= 2;\n",
        "    f = [int(0) for i in range(sum + 1)]\n",
        "    f[0] = 1;\n",
        "    for i in range(n):\n",
        "        for j in range(sum, 0, -1):\n",
        "            if(j >= a[i] and f[j - a[i]]):\n",
        "                f[j] = 1\n",
        "    return f[sum]   \n",
        "\n",
        "sum = 0\n",
        "for i in a:\n",
        "    sum += i;\n",
        "\n",
        "if sum % 2 == 1:\n",
        "    print(0)\n",
        "    exit()\n",
        "\n",
        "if check() == 0:\n",
        "    print(0)\n",
        "    exit()\n",
        "\n",
        "for i in range(n):\n",
        "    tam = a[i]\n",
        "    a[i] = 0\n",
        "    if(check() == 0):\n",
        "        print(1)\n",
        "        print(i + 1)\n",
        "        break\n",
        "    a[i] = tam\n",
        "\n",
        "\n"
      ],
      "execution_count": null,
      "outputs": [
        {
          "output_type": "stream",
          "text": [
            "3\n",
            "1 2 3\n",
            "1\n",
            "1\n"
          ],
          "name": "stdout"
        }
      ]
    },
    {
      "cell_type": "markdown",
      "metadata": {
        "id": "HwcJKb4TsUDG"
      },
      "source": [
        "##MINESWEEPER"
      ]
    },
    {
      "cell_type": "markdown",
      "metadata": {
        "id": "xApBUL0dsYqq"
      },
      "source": [
        "- Hướng làm:\n",
        "\n",
        "  - Giả sử ta đã khi xét đến ô $B_{i, j}$, ta đã điền được các ô $B_{u, v}$ với u + v < i + j. Lần lượt chọn $B_{i, j}$ = {0, 1} và cố định $B_{i, j}$, ta có thể điền tất cả ô $B_{i', j'}$ còn lại trên đường chéo phụ mà $i'+j'= i+j$.\n",
        "\n",
        " - Ta sử dụng đệ quy nhánh cận, duyệt lần lượt từng đường chéo phụ trên $B$, cố định 1 ô trên đường chéo phụ và điền các ô còn lại, rồi kiểm tra. Nếu thỏa mãn thì duyệt đường chéo phụ tiếp theo, còn không thì đổi giá trị ô mà ta cố định.\n",
        "\n",
        "- Độ phức tạp:\n",
        "\n",
        "    Do dùng thuật toán đệ quy nhánh cận nên rất khó để tính được độ phức tạp, nhưng do bài này có tồn tại đáp án nên dùng đệ quy để thử là tối ưu cho dạng bài này rồi"
      ]
    },
    {
      "cell_type": "code",
      "metadata": {
        "id": "SRZjLMeKs0Ay",
        "colab": {
          "base_uri": "https://localhost:8080/"
        },
        "outputId": "81ecd354-0846-405e-8e88-771eea863477"
      },
      "source": [
        "n, m = map(int, input().split())\n",
        "a = [[int(x) for x in input().split()] for i in range(n)]\n",
        "\n",
        "b = [[0 for j in range(m)] for i in range(n)]\n",
        "\n",
        "\n",
        "def check(i, j):\n",
        "    ans = 0\n",
        "    if i > 0 and b[i - 1][j] == 1:\n",
        "        ans += 1\n",
        "    if i < n - 1 and b[i + 1][j] == 1:\n",
        "        ans += 1\n",
        "    if j > 0 and b[i][j - 1] == 1:\n",
        "        ans += 1\n",
        "    if j < m - 1 and b[i][j + 1] == 1:\n",
        "        ans += 1\n",
        "    return a[i][j] - ans\n",
        "\n",
        "def printAns():\n",
        "\tif check(n - 1, m - 1) != 0:\n",
        "\t\treturn\n",
        "\tfor i in range(n):\n",
        "\t\tfor j in range(m):\n",
        "\t\t\tprint(b[i][j], end=' ')\n",
        "\t\tprint()\n",
        "\n",
        "def solve(i, j):\n",
        "\tfor x in range(2):\n",
        "\t\tb[i][j] = x\n",
        "\t\tkey = 0\n",
        "\n",
        "\t\tif i > 0 and check(i-1, j) != 0:\n",
        "\t\t\tcontinue\n",
        "\n",
        "\t\tfor k in range(1, min(n-i, j+1)):\n",
        "\t\t\tval = check(i + k - 1, j - k)\n",
        "\t\t\tif val != 0 and val != 1:\n",
        "\t\t\t\tkey = 1\n",
        "\t\t\t\tbreak\n",
        "\t\t\tb[i + k][j - k] = val\n",
        "\n",
        "\t\tif n - i < j + 1 and check(n - 1, j - n + i) != 0:\n",
        "\t\t\tkey = 1\n",
        "\n",
        "        #neu thoa man thi tiep tuc de quy\n",
        "\t\tif key == 0:\n",
        "\t\t\tif (i == n - 1) and  (j == m - 1):\n",
        "\t\t\t\tprintAns()\n",
        "\t\t\telif i + j + 1 < m:\n",
        "\t\t\t\tsolve(i, j + 1)\n",
        "\t\t\telse:\n",
        "\t\t\t\tsolve(i + 1, j)\n",
        "    \n",
        "        #khong thoa man thi reset lai\n",
        "\t\tfor k in range(1, min(n - i, j + 1)):\n",
        "\t\t\tb[i + k][j - k] = 0\n",
        "\n",
        "solve(0, 0)"
      ],
      "execution_count": null,
      "outputs": [
        {
          "output_type": "stream",
          "text": [
            "4 4\n",
            "2 0 1 1\n",
            "0 2 1 0\n",
            "1 1 1 2\n",
            "1 1 2 1\n",
            "0 1 0 0 \n",
            "1 0 0 1 \n",
            "0 0 0 0 \n",
            "0 1 1 1 \n"
          ],
          "name": "stdout"
        }
      ]
    }
  ]
}
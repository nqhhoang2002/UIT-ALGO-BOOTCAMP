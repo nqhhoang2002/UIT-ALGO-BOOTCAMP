{
  "nbformat": 4,
  "nbformat_minor": 0,
  "metadata": {
    "colab": {
      "name": "Untitled2.ipynb",
      "provenance": [],
      "collapsed_sections": [],
      "toc_visible": true
    },
    "kernelspec": {
      "name": "python3",
      "display_name": "Python 3"
    },
    "language_info": {
      "name": "python"
    }
  },
  "cells": [
    {
      "cell_type": "markdown",
      "metadata": {
        "id": "SXvhf8tEvWaG"
      },
      "source": [
        ""
      ]
    },
    {
      "cell_type": "markdown",
      "metadata": {
        "id": "7R1C6J_xvXY_"
      },
      "source": [
        "# VW05p_Enrichement"
      ]
    },
    {
      "cell_type": "markdown",
      "metadata": {
        "id": "CIcWcHQajr5y"
      },
      "source": [
        "##Tóm tắt đề bài\n"
      ]
    },
    {
      "cell_type": "markdown",
      "metadata": {
        "id": "IAUz-zc-jwXK"
      },
      "source": [
        "Cho ma trận a kích thước $n \\times m$ ($n, m \\leq 3, n \\times m \\leq 10^6$), và $0 \\leq a[i] \\leq 10^5$. Tìm ma trận có kích thước $3 \\times 3$ có tổng nhỏ nhất.\n"
      ]
    },
    {
      "cell_type": "markdown",
      "metadata": {
        "id": "-Efq_ZKjwhT4"
      },
      "source": [
        "##Ý tưởng\n"
      ]
    },
    {
      "cell_type": "markdown",
      "metadata": {
        "id": "oS9SzYPz0fTo"
      },
      "source": [
        "Dùng vét cạn duyệt qua hết tất cả các ma trận có kích thước $3 \\times 3$, lấy min mỗi lần duyệt tới."
      ]
    },
    {
      "cell_type": "markdown",
      "metadata": {
        "id": "VgBfobtM0xun"
      },
      "source": [
        "##Code"
      ]
    },
    {
      "cell_type": "code",
      "metadata": {
        "id": "X_Xl_VYF0-zy",
        "colab": {
          "base_uri": "https://localhost:8080/"
        },
        "outputId": "8501dae4-7c74-4316-f6ae-ff5f63bcb853"
      },
      "source": [
        "n, m = map(int, input().split())\n",
        "\n",
        "a = [[0]]\n",
        "for i in range(1, n + 1):\n",
        "  a.append([0])\n",
        "  a[i][1 : (m + 1)] = map(int, input().split())\n",
        "\n",
        "#for i in range(1, n + 1):\n",
        "#   for j in range(1, m + 1):\n",
        "#        print(a[i][j], end = \" \")\n",
        "#    print()\n",
        "\n",
        "res = 9 * 1e5\n",
        "for i in range(1, n + 1 - 2):\n",
        "  for j in range(1, m + 1 - 2):\n",
        "    sum = 0\n",
        "    #Tính tổng ô kích thước 3 * 3\n",
        "    for u in range(i, i + 1 + 2):\n",
        "      for v in range(j, j + 1 + 2):\n",
        "        sum += a[u][v]\n",
        "    #Lấy min kết quả sau mỗi lần lấy tổng\n",
        "    res = min(res, sum)\n",
        "\n",
        "print(res)"
      ],
      "execution_count": 21,
      "outputs": [
        {
          "output_type": "stream",
          "text": [
            "5 7\n",
            "10 2 3 7 10 4 8\n",
            "3 2 1 9 6 2 1\n",
            "0 3 6 7 8 9 10\n",
            "5 4 3 0 2 1 8\n",
            "9 2 3 10 6 4 8\n",
            "27\n"
          ],
          "name": "stdout"
        }
      ]
    },
    {
      "cell_type": "markdown",
      "metadata": {
        "id": "vOFpeNqHv-WU"
      },
      "source": [
        "# VW04p_Checkout\n"
      ]
    },
    {
      "cell_type": "markdown",
      "metadata": {
        "id": "ycdoMgAVqkBH"
      },
      "source": [
        "##Tóm tắt đề bài"
      ]
    },
    {
      "cell_type": "markdown",
      "metadata": {
        "id": "PjopvoKsqnEl"
      },
      "source": [
        "Cho:\n",
        "\n",
        "  - $d:$ Quãng đường\n",
        "  - $a_1:$ gia tốc tăng\n",
        "  - $v_{max}:$ vận tốc tối đa được cho phép\n",
        "  - $t:$ thời gian tối thiểu duy trì vận tốc cao nhất\n",
        "\n",
        "Tìm thời gian $t_{min}$ mà để hoàn thành quãng đường\n",
        "\n"
      ]
    },
    {
      "cell_type": "markdown",
      "metadata": {
        "id": "vAGT1E7Dr9Vd"
      },
      "source": [
        "##Ý tưởng"
      ]
    },
    {
      "cell_type": "markdown",
      "metadata": {
        "id": "O_xt5cSssEVR"
      },
      "source": [
        "- Dễ dàng nhận ra vận tốc càng lớn thì thời gian càng thấp nên ta cần tối ưu vận tốc cao nhất là v\n",
        "- Nếu vận tốc cao nhât của ta là v thì ta có công thức như sau:\n",
        "   $\\frac{v ^ 2}{2a_1} + t \\times v + \\frac{v ^2}{2a_2} = d$\n",
        "  \n",
        "  Từ số liệu đã cho thì ta dễ dàng giải phương trình bậc 2 trên và tìm được v. Lúc này ta có 2 trường hợp\n",
        "  - Nếu $v \\leq v_{max}$ thì $t_{min} = \\frac{v}{a1} + \\frac{v}{a2} + t$\n",
        "\n",
        "  - Nếu $v>v_{max}$ thì $t_{min} = \\frac{D}{vmax} + \\frac{vmax}{2 \\times a_{1}}+ \\frac{vmax}{2 \\times a2}$\n"
      ]
    },
    {
      "cell_type": "markdown",
      "metadata": {
        "id": "_3Ryv_fSxPhg"
      },
      "source": [
        "##Code"
      ]
    },
    {
      "cell_type": "markdown",
      "metadata": {
        "id": "zCfcFAn-vcS0"
      },
      "source": [
        ""
      ]
    },
    {
      "cell_type": "code",
      "metadata": {
        "colab": {
          "base_uri": "https://localhost:8080/"
        },
        "id": "_RVJEefdu1jE",
        "outputId": "c0238e0c-c361-4930-d90e-7139e0301aad"
      },
      "source": [
        "import math\n",
        "\n",
        "d, a1, a2, vmax, t = map(float, input().split())\n",
        "\n",
        "a = 1/(2*a1) + 1/(2*a2)\n",
        "delta = t * t + 4 * d * a\n",
        "v = (-t + math.sqrt(delta)) / (2 * a)\n",
        "\n",
        "if v <= vmax:\n",
        "\ttmin = v/a1 + v/a2 + t\n",
        "else:\n",
        "\ttmin = d/vmax + vmax/(2*a1) + vmax/(2*a2)\n",
        "\n",
        "print(round(tmin, 12))"
      ],
      "execution_count": 22,
      "outputs": [
        {
          "output_type": "stream",
          "text": [
            "20.5 0.5 0.6 3 7.5\n",
            "14.373007108234\n"
          ],
          "name": "stdout"
        }
      ]
    },
    {
      "cell_type": "markdown",
      "metadata": {
        "id": "Ucz7HfU4wMBz"
      },
      "source": [
        "# VW07p_Vitamin\n"
      ]
    },
    {
      "cell_type": "markdown",
      "metadata": {
        "id": "SNGKOneKxXZo"
      },
      "source": [
        "##Tóm tắt đề bài"
      ]
    },
    {
      "cell_type": "markdown",
      "metadata": {
        "id": "DIV88YFCxZ3u"
      },
      "source": [
        "Cho dãy số nguyên dương a độ dài n $(a_i \\leq 1000)$ và số nguyên dương X $(X \\leq 10^6)$. Có\n",
        "  - $S_i=a_1+a_2+...+a_i$ với $i \\leq n$\n",
        "  - $S_i=S_n+(i-n) \\times a_n$ với $i>n$\n",
        "  - Chọn $S_i$ sẽ tốn i bước\n",
        "  - Từ lần chọn thứ 2 trở lên mỗi lần chọn mất thêm 1 bước\n",
        "\n",
        "Có tồn tại tổ hợp lặp của S sao cho tổng bằng X. Nếu tồn tại in ra trường hợp số bước nhỏ nhất, ngược lại in ra -1"
      ]
    },
    {
      "cell_type": "markdown",
      "metadata": {
        "id": "KIugo18t0HAf"
      },
      "source": [
        "##Ý tưởng"
      ]
    },
    {
      "cell_type": "markdown",
      "metadata": {
        "id": "xt_J8-F40Nge"
      },
      "source": [
        "Quy hoạch động\n",
        "- Gọi $f[i]$ là giá trị nhỏ nhất để đạt được $X - i$, $f[0]$ là kết quả của bài toán\n",
        "- Ban đầu ta có $f[i]$ = +$\\infty$ $(0 \\leq i \\leq x - 1)$, $f[x] = 0$\n",
        "\n",
        "Ban đầu ta tối ưu $f[i]$ mà không dùng dùng $S_i$ ($i > n$) bằng cách: Nếu $f[i]$ có cách chọn thì với mỗi $s[i]$ ta minize $f[i - s[i]]$ thì sẽ có giá trị tối ưu của $f[i - s[i]]$\n",
        "\n",
        "Sau đó ta dùng tiếp điều kiện $S_i=S_n+(i-n) \\times a_n$ với $i>n$. Với kết quả tối ưu ở trước ta dễ dàng tối ưu được $f[0]$ nếu $i - S[n]$ chia hết cho $a[n]$ thì ta minimize $f[0]$ với $f[i] + n + \\frac{i - S[n]}{a[n]} + 1$"
      ]
    },
    {
      "cell_type": "markdown",
      "metadata": {
        "id": "6S5qvFpl5_Is"
      },
      "source": [
        "##Code"
      ]
    },
    {
      "cell_type": "code",
      "metadata": {
        "colab": {
          "base_uri": "https://localhost:8080/"
        },
        "id": "p11x3rU-6BK_",
        "outputId": "2d651b30-6e9a-41c2-c455-1cbb5bd461b5"
      },
      "source": [
        "n, X = map(int, input().split())\n",
        "a = [0]\n",
        "a[1:n+1] = map(int, input().split())\n",
        "\n",
        "for i in range(1, n + 1):\n",
        "  a[i] += a[i - 1]\n",
        "\n",
        "f = [int(1e9) for x in range(X+1)]\n",
        "f[X] = 0\n",
        "\n",
        "val = a[n] - a[n - 1]\n",
        "\n",
        "for i in range(n, 1 - 1, -1):\n",
        "  for j in range(X, 0 - 1, -1):\n",
        "    if (f[j] == 1e9) or (j - a[i] < 0): \n",
        "      continue\n",
        "    f[j - a[i]] = min(f[j - a[i]], f[j] + i + 1)\n",
        "\n",
        "for j in range(X, 0 - 1, -1):\n",
        "  if(f[j] == 1e9):\n",
        "    continue\n",
        "  if((j - a[n] >= 0) and (j - a[n]) % val == 0):\n",
        "    f[0] = min(f[0], f[j] + n + 1 + (j - a[n]) // val)\n",
        "\n",
        "if(f[0] == 1e9):\n",
        "  print(-1)\n",
        "else:\n",
        "  print(f[0] - 1)\n"
      ],
      "execution_count": 26,
      "outputs": [
        {
          "output_type": "stream",
          "text": [
            "5 12\n",
            "1 4 2 6 3\n",
            "6\n"
          ],
          "name": "stdout"
        }
      ]
    }
  ]
}